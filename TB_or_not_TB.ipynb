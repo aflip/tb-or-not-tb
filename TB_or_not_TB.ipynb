{
 "cells": [
  {
   "cell_type": "markdown",
   "id": "4a240127-3977-4094-b983-e867907d7832",
   "metadata": {},
   "source": [
    "# TB or not TB\n",
    "## That is the question\n",
    "\n",
    " Whether 'tis nobler in the mind to suffer   \n",
    "The slings and arrows of outrageous fortune,   \n",
    "Or to take arms against a sea of troubles   \n",
    "And by opposing end them. To die—to sleep,   "
   ]
  },
  {
   "cell_type": "code",
   "execution_count": 4,
   "id": "39756d97-0268-4e9c-8fec-7c69a8fb7c63",
   "metadata": {},
   "outputs": [],
   "source": [
    "from fastai.vision.all import *\n",
    "from fastai.vision.widgets import *"
   ]
  },
  {
   "cell_type": "code",
   "execution_count": 5,
   "id": "be09ecc4-075b-4750-800b-bcd3de097054",
   "metadata": {},
   "outputs": [],
   "source": [
    "defaults.device = torch.device('cpu')"
   ]
  },
  {
   "cell_type": "code",
   "execution_count": 6,
   "id": "c1dcfb6c",
   "metadata": {},
   "outputs": [],
   "source": [
    "import re\n",
    "def label_func(fname):\n",
    "    return \"Normal\" if bool(re.search(r'\\w{3}CXR_\\d+_0',fname.name)) == True else \"TB\""
   ]
  },
  {
   "cell_type": "code",
   "execution_count": 7,
   "id": "4c761723-8ab3-4aed-bf3b-20fbd4af236e",
   "metadata": {},
   "outputs": [],
   "source": [
    "path = Path()\n",
    "learn_inf = load_learner(path/'trial.pkl')"
   ]
  },
  {
   "cell_type": "code",
   "execution_count": 8,
   "id": "e0881b22-c4f8-4192-bd5c-dd97698ea673",
   "metadata": {},
   "outputs": [],
   "source": [
    "btn_upload = widgets.FileUpload()\n",
    "out_pl = widgets.Output()\n",
    "lbl_pred = widgets.Label()"
   ]
  },
  {
   "cell_type": "code",
   "execution_count": 9,
   "id": "f3d71f7c-b735-4df9-a7c5-2bb6f1348d18",
   "metadata": {},
   "outputs": [],
   "source": [
    "# Create interface\n",
    "\n",
    "def on_data_change(change):\n",
    "    lbl_pred.value = ''\n",
    "    \n",
    "    # Load Image\n",
    "    img = PILImage.create(btn_upload.data[-1])\n",
    "    out_pl.clear_output()\n",
    "    with out_pl:\n",
    "        display(img.to_thumb(224,244))\n",
    "    \n",
    "    # Predict image\n",
    "    pred, pred_idx, probs = learn_inf.predict(img)\n",
    "    \n",
    "    lbl_pred.value = f'Prediction: {pred}; Probability: {probs[pred_idx]:.04f}'"
   ]
  },
  {
   "cell_type": "code",
   "execution_count": 11,
   "id": "14419cde",
   "metadata": {},
   "outputs": [
    {
     "data": {
      "application/vnd.jupyter.widget-view+json": {
       "model_id": "0874da02fbc544d69a3ff4b8a8f9a32c",
       "version_major": 2,
       "version_minor": 0
      },
      "text/plain": [
       "VBox(children=(Label(value='Select your xray!'), FileUpload(value={'TRAIN_px47.jpg': {'metadata': {'name': 'TR…"
      ]
     },
     "metadata": {},
     "output_type": "display_data"
    },
    {
     "data": {
      "text/html": [],
      "text/plain": [
       "<IPython.core.display.HTML object>"
      ]
     },
     "metadata": {},
     "output_type": "display_data"
    },
    {
     "data": {
      "text/html": [],
      "text/plain": [
       "<IPython.core.display.HTML object>"
      ]
     },
     "metadata": {},
     "output_type": "display_data"
    },
    {
     "data": {
      "text/html": [],
      "text/plain": [
       "<IPython.core.display.HTML object>"
      ]
     },
     "metadata": {},
     "output_type": "display_data"
    }
   ],
   "source": [
    "btn_upload.observe(on_data_change, names=['data'])\n",
    "\n",
    "# Display Predictions\n",
    "display(VBox([widgets.Label('Select your xray!'), btn_upload, out_pl, lbl_pred]))"
   ]
  }
 ],
 "metadata": {
  "kernelspec": {
   "display_name": "Python 3",
   "language": "python",
   "name": "python3"
  },
  "language_info": {
   "codemirror_mode": {
    "name": "ipython",
    "version": 3
   },
   "file_extension": ".py",
   "mimetype": "text/x-python",
   "name": "python",
   "nbconvert_exporter": "python",
   "pygments_lexer": "ipython3",
   "version": "3.7.10"
  }
 },
 "nbformat": 4,
 "nbformat_minor": 5
}
