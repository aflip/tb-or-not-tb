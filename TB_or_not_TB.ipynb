{
 "cells": [
  {
   "cell_type": "markdown",
   "id": "4a240127-3977-4094-b983-e867907d7832",
   "metadata": {},
   "source": [
    "# TB or not TB\n",
    "## That is the question\n",
    "\n",
    " Whether 'tis nobler in the mind to suffer   \n",
    "The slings and arrows of outrageous fortune,   \n",
    "Or to take arms against a sea of troubles   \n",
    "And by opposing end them. To die—to sleep,   "
   ]
  },
  {
   "cell_type": "code",
   "execution_count": 13,
   "id": "39756d97-0268-4e9c-8fec-7c69a8fb7c63",
   "metadata": {},
   "outputs": [],
   "source": [
    "from fastai.vision.all import *\n",
    "from fastai.vision.widgets import *"
   ]
  },
  {
   "cell_type": "code",
   "execution_count": 10,
   "id": "7849ffa8-af61-40dd-ad4f-a717e6916e90",
   "metadata": {},
   "outputs": [],
   "source": [
    "import fastbook"
   ]
  },
  {
   "cell_type": "code",
   "execution_count": null,
   "id": "4c761723-8ab3-4aed-bf3b-20fbd4af236e",
   "metadata": {},
   "outputs": [],
   "source": [
    "path = Path()\n",
    "learn_inf = load_learner(path/'resnet50_ac81_213epochs.pkl', cpu=True)"
   ]
  },
  {
   "cell_type": "code",
   "execution_count": 30,
   "id": "e0881b22-c4f8-4192-bd5c-dd97698ea673",
   "metadata": {},
   "outputs": [],
   "source": [
    "btn_upload = widgets.FileUpload()\n",
    "out_pl = widgets.Output()\n",
    "lbl_pred = widgets.Label()"
   ]
  },
  {
   "cell_type": "code",
   "execution_count": 28,
   "id": "f3d71f7c-b735-4df9-a7c5-2bb6f1348d18",
   "metadata": {},
   "outputs": [],
   "source": [
    "def on_click(change):\n",
    "    img = PILImage.create(btn_upload.data[-1])\n",
    "    out_pl.clear_output()\n",
    "    with out_pl: display(img.to_thumb(128,128))\n",
    "    pred,pred_idx,probs = learn_inf.predict(img)\n",
    "    lbl_pred.value = f'Prediction: {pred}; Probability: {probs[pred_idx]:.04f}'"
   ]
  },
  {
   "cell_type": "code",
   "execution_count": 31,
   "id": "b9f84e6b-d377-4bda-8a58-b0fc53386ac7",
   "metadata": {},
   "outputs": [],
   "source": [
    "btn_upload.observe(on_click, names=['data'])"
   ]
  },
  {
   "cell_type": "code",
   "execution_count": 32,
   "id": "f0d16e81-36df-4a34-877d-571f5d223047",
   "metadata": {},
   "outputs": [
    {
     "data": {
      "application/vnd.jupyter.widget-view+json": {
       "model_id": "c0446350f36d40a8a7c39b7aac34bbce",
       "version_major": 2,
       "version_minor": 0
      },
      "text/plain": [
       "VBox(children=(Label(value='Select your Xray!'), FileUpload(value={}, description='Upload'), Output(), Label(v…"
      ]
     },
     "metadata": {},
     "output_type": "display_data"
    }
   ],
   "source": [
    "display(VBox([widgets.Label('Select your Xray!'), btn_upload, out_pl, lbl_pred]))"
   ]
  }
 ],
 "metadata": {
  "kernelspec": {
   "display_name": "Python 3 (ipykernel)",
   "language": "python",
   "name": "python3"
  },
  "language_info": {
   "codemirror_mode": {
    "name": "ipython",
    "version": 3
   },
   "file_extension": ".py",
   "mimetype": "text/x-python",
   "name": "python",
   "nbconvert_exporter": "python",
   "pygments_lexer": "ipython3",
   "version": "3.9.6"
  }
 },
 "nbformat": 4,
 "nbformat_minor": 5
}
